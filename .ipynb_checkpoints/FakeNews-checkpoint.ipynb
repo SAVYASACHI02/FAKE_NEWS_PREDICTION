{
 "cells": [
  {
   "cell_type": "code",
   "execution_count": 27,
   "id": "e3fa5dee",
   "metadata": {},
   "outputs": [],
   "source": [
    "#import dependency\n",
    "import numpy as np\n",
    "import pandas as pd\n",
    "import re # these are important to search text and paragraph re->regular expression\n",
    "from nltk.corpus import stopwords # nltk is natural language tool kit  stopwords are like a the at etc that does not have much meaning so we remove these \n",
    "from nltk.stem.porter import PorterStemmer # stem removes sufix and prefix and return root word of text\n",
    "from sklearn.feature_extraction.text import TfidfVectorizer # it is used to convert text into numbers/feature vectors\n",
    "from sklearn.model_selection import train_test_split\n",
    "from sklearn.linear_model import LogisticRegression\n",
    "from sklearn.metrics import accuracy_score\n",
    "\n",
    "# 0-> real news\n",
    "# 1->fake news "
   ]
  },
  {
   "cell_type": "code",
   "execution_count": 28,
   "id": "36f30cd3",
   "metadata": {},
   "outputs": [
    {
     "name": "stderr",
     "output_type": "stream",
     "text": [
      "[nltk_data] Downloading package stopwords to\n",
      "[nltk_data]     C:\\Users\\savyasachi\\AppData\\Roaming\\nltk_data...\n",
      "[nltk_data]   Package stopwords is already up-to-date!\n"
     ]
    },
    {
     "data": {
      "text/plain": [
       "True"
      ]
     },
     "execution_count": 28,
     "metadata": {},
     "output_type": "execute_result"
    }
   ],
   "source": [
    "import nltk\n",
    "nltk.download('stopwords')"
   ]
  },
  {
   "cell_type": "code",
   "execution_count": 29,
   "id": "f937ba89",
   "metadata": {},
   "outputs": [
    {
     "name": "stdout",
     "output_type": "stream",
     "text": [
      "['i', 'me', 'my', 'myself', 'we', 'our', 'ours', 'ourselves', 'you', \"you're\", \"you've\", \"you'll\", \"you'd\", 'your', 'yours', 'yourself', 'yourselves', 'he', 'him', 'his', 'himself', 'she', \"she's\", 'her', 'hers', 'herself', 'it', \"it's\", 'its', 'itself', 'they', 'them', 'their', 'theirs', 'themselves', 'what', 'which', 'who', 'whom', 'this', 'that', \"that'll\", 'these', 'those', 'am', 'is', 'are', 'was', 'were', 'be', 'been', 'being', 'have', 'has', 'had', 'having', 'do', 'does', 'did', 'doing', 'a', 'an', 'the', 'and', 'but', 'if', 'or', 'because', 'as', 'until', 'while', 'of', 'at', 'by', 'for', 'with', 'about', 'against', 'between', 'into', 'through', 'during', 'before', 'after', 'above', 'below', 'to', 'from', 'up', 'down', 'in', 'out', 'on', 'off', 'over', 'under', 'again', 'further', 'then', 'once', 'here', 'there', 'when', 'where', 'why', 'how', 'all', 'any', 'both', 'each', 'few', 'more', 'most', 'other', 'some', 'such', 'no', 'nor', 'not', 'only', 'own', 'same', 'so', 'than', 'too', 'very', 's', 't', 'can', 'will', 'just', 'don', \"don't\", 'should', \"should've\", 'now', 'd', 'll', 'm', 'o', 're', 've', 'y', 'ain', 'aren', \"aren't\", 'couldn', \"couldn't\", 'didn', \"didn't\", 'doesn', \"doesn't\", 'hadn', \"hadn't\", 'hasn', \"hasn't\", 'haven', \"haven't\", 'isn', \"isn't\", 'ma', 'mightn', \"mightn't\", 'mustn', \"mustn't\", 'needn', \"needn't\", 'shan', \"shan't\", 'shouldn', \"shouldn't\", 'wasn', \"wasn't\", 'weren', \"weren't\", 'won', \"won't\", 'wouldn', \"wouldn't\"]\n"
     ]
    }
   ],
   "source": [
    "print(stopwords.words('English')) # we are seeing what are stopwords in English"
   ]
  },
  {
   "cell_type": "code",
   "execution_count": 30,
   "id": "d0790ffa",
   "metadata": {},
   "outputs": [],
   "source": [
    "# DATA PRE PROCESSING AND LOADIG DATA IN A DATAFRAME\n",
    "news_dataset=pd.read_csv('C:\\\\Users\\\\savyasachi\\\\Videos\\\\FAKE_NEWS PREDICTION\\\\train.csv')"
   ]
  },
  {
   "cell_type": "code",
   "execution_count": 31,
   "id": "9a3b7d07",
   "metadata": {},
   "outputs": [
    {
     "data": {
      "text/plain": [
       "(20800, 5)"
      ]
     },
     "execution_count": 31,
     "metadata": {},
     "output_type": "execute_result"
    }
   ],
   "source": [
    "news_dataset.shape "
   ]
  },
  {
   "cell_type": "code",
   "execution_count": 32,
   "id": "7f95cf3f",
   "metadata": {},
   "outputs": [
    {
     "data": {
      "text/html": [
       "<div>\n",
       "<style scoped>\n",
       "    .dataframe tbody tr th:only-of-type {\n",
       "        vertical-align: middle;\n",
       "    }\n",
       "\n",
       "    .dataframe tbody tr th {\n",
       "        vertical-align: top;\n",
       "    }\n",
       "\n",
       "    .dataframe thead th {\n",
       "        text-align: right;\n",
       "    }\n",
       "</style>\n",
       "<table border=\"1\" class=\"dataframe\">\n",
       "  <thead>\n",
       "    <tr style=\"text-align: right;\">\n",
       "      <th></th>\n",
       "      <th>id</th>\n",
       "      <th>title</th>\n",
       "      <th>author</th>\n",
       "      <th>text</th>\n",
       "      <th>label</th>\n",
       "    </tr>\n",
       "  </thead>\n",
       "  <tbody>\n",
       "    <tr>\n",
       "      <th>0</th>\n",
       "      <td>0</td>\n",
       "      <td>House Dem Aide: We Didn’t Even See Comey’s Let...</td>\n",
       "      <td>Darrell Lucus</td>\n",
       "      <td>House Dem Aide: We Didn’t Even See Comey’s Let...</td>\n",
       "      <td>1</td>\n",
       "    </tr>\n",
       "    <tr>\n",
       "      <th>1</th>\n",
       "      <td>1</td>\n",
       "      <td>FLYNN: Hillary Clinton, Big Woman on Campus - ...</td>\n",
       "      <td>Daniel J. Flynn</td>\n",
       "      <td>Ever get the feeling your life circles the rou...</td>\n",
       "      <td>0</td>\n",
       "    </tr>\n",
       "    <tr>\n",
       "      <th>2</th>\n",
       "      <td>2</td>\n",
       "      <td>Why the Truth Might Get You Fired</td>\n",
       "      <td>Consortiumnews.com</td>\n",
       "      <td>Why the Truth Might Get You Fired October 29, ...</td>\n",
       "      <td>1</td>\n",
       "    </tr>\n",
       "    <tr>\n",
       "      <th>3</th>\n",
       "      <td>3</td>\n",
       "      <td>15 Civilians Killed In Single US Airstrike Hav...</td>\n",
       "      <td>Jessica Purkiss</td>\n",
       "      <td>Videos 15 Civilians Killed In Single US Airstr...</td>\n",
       "      <td>1</td>\n",
       "    </tr>\n",
       "    <tr>\n",
       "      <th>4</th>\n",
       "      <td>4</td>\n",
       "      <td>Iranian woman jailed for fictional unpublished...</td>\n",
       "      <td>Howard Portnoy</td>\n",
       "      <td>Print \\nAn Iranian woman has been sentenced to...</td>\n",
       "      <td>1</td>\n",
       "    </tr>\n",
       "  </tbody>\n",
       "</table>\n",
       "</div>"
      ],
      "text/plain": [
       "   id                                              title              author  \\\n",
       "0   0  House Dem Aide: We Didn’t Even See Comey’s Let...       Darrell Lucus   \n",
       "1   1  FLYNN: Hillary Clinton, Big Woman on Campus - ...     Daniel J. Flynn   \n",
       "2   2                  Why the Truth Might Get You Fired  Consortiumnews.com   \n",
       "3   3  15 Civilians Killed In Single US Airstrike Hav...     Jessica Purkiss   \n",
       "4   4  Iranian woman jailed for fictional unpublished...      Howard Portnoy   \n",
       "\n",
       "                                                text  label  \n",
       "0  House Dem Aide: We Didn’t Even See Comey’s Let...      1  \n",
       "1  Ever get the feeling your life circles the rou...      0  \n",
       "2  Why the Truth Might Get You Fired October 29, ...      1  \n",
       "3  Videos 15 Civilians Killed In Single US Airstr...      1  \n",
       "4  Print \\nAn Iranian woman has been sentenced to...      1  "
      ]
     },
     "execution_count": 32,
     "metadata": {},
     "output_type": "execute_result"
    }
   ],
   "source": [
    "news_dataset.head()"
   ]
  },
  {
   "cell_type": "code",
   "execution_count": 33,
   "id": "05c0822d",
   "metadata": {},
   "outputs": [
    {
     "data": {
      "text/plain": [
       "id           0\n",
       "title      558\n",
       "author    1957\n",
       "text        39\n",
       "label        0\n",
       "dtype: int64"
      ]
     },
     "execution_count": 33,
     "metadata": {},
     "output_type": "execute_result"
    }
   ],
   "source": [
    "# counting the number of missing values in dataset\n",
    "news_dataset.isnull().sum()   #.sum() to finf total missing value in each column\n"
   ]
  },
  {
   "cell_type": "code",
   "execution_count": 34,
   "id": "957fd09b",
   "metadata": {},
   "outputs": [
    {
     "name": "stdout",
     "output_type": "stream",
     "text": [
      "0        Darrell Lucus House Dem Aide: We Didn’t Even S...\n",
      "1        Daniel J. Flynn FLYNN: Hillary Clinton, Big Wo...\n",
      "2        Consortiumnews.com Why the Truth Might Get You...\n",
      "3        Jessica Purkiss 15 Civilians Killed In Single ...\n",
      "4        Howard Portnoy Iranian woman jailed for fictio...\n",
      "                               ...                        \n",
      "20795    Jerome Hudson Rapper T.I.: Trump a ’Poster Chi...\n",
      "20796    Benjamin Hoffman N.F.L. Playoffs: Schedule, Ma...\n",
      "20797    Michael J. de la Merced and Rachel Abrams Macy...\n",
      "20798    Alex Ansary NATO, Russia To Hold Parallel Exer...\n",
      "20799              David Swanson What Keeps the F-35 Alive\n",
      "Name: content, Length: 20800, dtype: object\n"
     ]
    }
   ],
   "source": [
    "# since we have a big dataset we can replece null by empty string\n",
    "news_dataset=news_dataset.fillna('') #fillna fills missing value wih whst we write in it here we are replacing it with null string\n",
    "\n",
    "# here we are using only title and aurthor data for prediction->\n",
    "# merging the title and news title\n",
    "news_dataset['content']=news_dataset['author']+' '+news_dataset['title'] # concatinating author and title and storing in new column content\n",
    "\n",
    "print(news_dataset['content'])\n",
    "\n"
   ]
  },
  {
   "cell_type": "code",
   "execution_count": 35,
   "id": "15467b5b",
   "metadata": {},
   "outputs": [
    {
     "name": "stdout",
     "output_type": "stream",
     "text": [
      "          id                                              title  \\\n",
      "0          0  House Dem Aide: We Didn’t Even See Comey’s Let...   \n",
      "1          1  FLYNN: Hillary Clinton, Big Woman on Campus - ...   \n",
      "2          2                  Why the Truth Might Get You Fired   \n",
      "3          3  15 Civilians Killed In Single US Airstrike Hav...   \n",
      "4          4  Iranian woman jailed for fictional unpublished...   \n",
      "...      ...                                                ...   \n",
      "20795  20795  Rapper T.I.: Trump a ’Poster Child For White S...   \n",
      "20796  20796  N.F.L. Playoffs: Schedule, Matchups and Odds -...   \n",
      "20797  20797  Macy’s Is Said to Receive Takeover Approach by...   \n",
      "20798  20798  NATO, Russia To Hold Parallel Exercises In Bal...   \n",
      "20799  20799                          What Keeps the F-35 Alive   \n",
      "\n",
      "                                          author  \\\n",
      "0                                  Darrell Lucus   \n",
      "1                                Daniel J. Flynn   \n",
      "2                             Consortiumnews.com   \n",
      "3                                Jessica Purkiss   \n",
      "4                                 Howard Portnoy   \n",
      "...                                          ...   \n",
      "20795                              Jerome Hudson   \n",
      "20796                           Benjamin Hoffman   \n",
      "20797  Michael J. de la Merced and Rachel Abrams   \n",
      "20798                                Alex Ansary   \n",
      "20799                              David Swanson   \n",
      "\n",
      "                                                    text  \\\n",
      "0      House Dem Aide: We Didn’t Even See Comey’s Let...   \n",
      "1      Ever get the feeling your life circles the rou...   \n",
      "2      Why the Truth Might Get You Fired October 29, ...   \n",
      "3      Videos 15 Civilians Killed In Single US Airstr...   \n",
      "4      Print \\nAn Iranian woman has been sentenced to...   \n",
      "...                                                  ...   \n",
      "20795  Rapper T. I. unloaded on black celebrities who...   \n",
      "20796  When the Green Bay Packers lost to the Washing...   \n",
      "20797  The Macy’s of today grew from the union of sev...   \n",
      "20798  NATO, Russia To Hold Parallel Exercises In Bal...   \n",
      "20799    David Swanson is an author, activist, journa...   \n",
      "\n",
      "                                                 content  \n",
      "0      Darrell Lucus House Dem Aide: We Didn’t Even S...  \n",
      "1      Daniel J. Flynn FLYNN: Hillary Clinton, Big Wo...  \n",
      "2      Consortiumnews.com Why the Truth Might Get You...  \n",
      "3      Jessica Purkiss 15 Civilians Killed In Single ...  \n",
      "4      Howard Portnoy Iranian woman jailed for fictio...  \n",
      "...                                                  ...  \n",
      "20795  Jerome Hudson Rapper T.I.: Trump a ’Poster Chi...  \n",
      "20796  Benjamin Hoffman N.F.L. Playoffs: Schedule, Ma...  \n",
      "20797  Michael J. de la Merced and Rachel Abrams Macy...  \n",
      "20798  Alex Ansary NATO, Russia To Hold Parallel Exer...  \n",
      "20799            David Swanson What Keeps the F-35 Alive  \n",
      "\n",
      "[20800 rows x 5 columns]\n",
      "0        1\n",
      "1        0\n",
      "2        1\n",
      "3        1\n",
      "4        1\n",
      "        ..\n",
      "20795    0\n",
      "20796    0\n",
      "20797    0\n",
      "20798    1\n",
      "20799    1\n",
      "Name: label, Length: 20800, dtype: int64\n"
     ]
    }
   ],
   "source": [
    "# seperating the data and label \n",
    "X=news_dataset.drop(columns='label',axis=1)\n",
    "Y=news_dataset['label']\n",
    "print(X)\n",
    "print(Y)"
   ]
  },
  {
   "cell_type": "code",
   "execution_count": 39,
   "id": "1c762094",
   "metadata": {},
   "outputs": [],
   "source": [
    "#stemming-> process of reducing a word to its root word remove all prefix and suffix\n",
    "# example  actor,actress,acting=>act\n",
    "port_stem=PorterStemmer()\n",
    "\n",
    "def stemming(content):\n",
    "    stemmed_content=re.sub('[^a-zA-Z]',' ',content) #we are taking set a to z and A to Z  and removing everything other than that like commas ,numbers etc\n",
    "    # MIDDLE Argument ' ' numbers and commas etc will be relaced by space in content\n",
    "    stemmed_content=stemmed_content.lower()  # convert to lowercase \n",
    "    stemmed_content=stemmed_content.split()  \n",
    "    stemmed_content=[port_stem.stem(word) for word in stemmed_content if not word in stopwords.words('english')]# we are stemming only those words that are not stopwordsand deleting stopwords  \n",
    "    stemmed_content=' '.join(stemmed_content)\n",
    "    return stemmed_content                      "
   ]
  },
  {
   "cell_type": "code",
   "execution_count": 41,
   "id": "70222f3e",
   "metadata": {},
   "outputs": [
    {
     "name": "stdout",
     "output_type": "stream",
     "text": [
      "0        darrel lucu hou dem aid even see comey letter ...\n",
      "1        daniel j flynn flynn hillari clinton big woman...\n",
      "2                   consortiumnew com truth might get fire\n",
      "3        jessica purkiss civilian kill singl us airstri...\n",
      "4        howard portnoy iranian woman jail fiction unpu...\n",
      "                               ...                        \n",
      "20795    jerom hudson rapper trump poster child white s...\n",
      "20796    benjamin hoffman n f l playoff schedul matchup...\n",
      "20797    michael j de la merc rachel abram maci said re...\n",
      "20798    alex ansari nato russia hold parallel exerci b...\n",
      "20799                            david swanson keep f aliv\n",
      "Name: content, Length: 20800, dtype: object\n"
     ]
    }
   ],
   "source": [
    "# applying function\n",
    "news_dataset['content']=news_dataset['content'].apply(stemming)\n",
    "print(news_dataset['content'])\n",
    "\n",
    "\n"
   ]
  },
  {
   "cell_type": "code",
   "execution_count": 42,
   "id": "c66ea12b",
   "metadata": {},
   "outputs": [
    {
     "name": "stdout",
     "output_type": "stream",
     "text": [
      "['darrel lucu hou dem aid even see comey letter jason chaffetz tweet'\n",
      " 'daniel j flynn flynn hillari clinton big woman campu breitbart'\n",
      " 'consortiumnew com truth might get fire' ...\n",
      " 'michael j de la merc rachel abram maci said receiv takeov approach hudson bay new york time'\n",
      " 'alex ansari nato russia hold parallel exerci balkan'\n",
      " 'david swanson keep f aliv']\n",
      "[1 0 1 ... 0 1 1]\n"
     ]
    }
   ],
   "source": [
    "#seperating the data and label\n",
    "X=news_dataset['content'].values\n",
    "Y=news_dataset['label'].values\n",
    "print(X)\n",
    "print(Y)   # now we only have content and label of that\n"
   ]
  },
  {
   "cell_type": "code",
   "execution_count": 43,
   "id": "40960d45",
   "metadata": {
    "scrolled": false
   },
   "outputs": [],
   "source": [
    "# we will convert text data to number data so that machine can operate on it\n",
    "vectorizers=TfidfVectorizer() # term frequency and id-> inverse frequency (counts how manytime a word repeat and assign a particular numerical value to it)\n",
    "\n",
    "# tf finds significant words while inverse find most repeated words that might not be significant like a movie name repeat again again but not significant that much \n",
    "vectorizers.fit(X)\n",
    "X=vectorizers.transform(X)\n"
   ]
  },
  {
   "cell_type": "code",
   "execution_count": 44,
   "id": "dc6f5381",
   "metadata": {},
   "outputs": [
    {
     "name": "stdout",
     "output_type": "stream",
     "text": [
      "  (0, 15544)\t0.28485063562728646\n",
      "  (0, 13341)\t0.2565896679337957\n",
      "  (0, 8818)\t0.3635963806326075\n",
      "  (0, 8542)\t0.29212514087043684\n",
      "  (0, 7608)\t0.24785219520671603\n",
      "  (0, 6928)\t0.21874169089359144\n",
      "  (0, 4916)\t0.233316966909351\n",
      "  (0, 3759)\t0.2705332480845492\n",
      "  (0, 3567)\t0.3598939188262559\n",
      "  (0, 2933)\t0.2468450128533713\n",
      "  (0, 2464)\t0.3676519686797209\n",
      "  (0, 263)\t0.27010124977708766\n",
      "  (1, 16645)\t0.3025156488372128\n",
      "  (1, 6742)\t0.19152496072048605\n",
      "  (1, 5439)\t0.7186013955384664\n",
      "  (1, 3535)\t0.2653147533915268\n",
      "  (1, 2790)\t0.19208753385709676\n",
      "  (1, 2206)\t0.36915639258038363\n",
      "  (1, 1877)\t0.15614790568229528\n",
      "  (1, 1481)\t0.2957471154505952\n",
      "  (2, 15469)\t0.41544962664721613\n",
      "  (2, 9528)\t0.49351492943649944\n",
      "  (2, 5901)\t0.3474613386728292\n",
      "  (2, 5325)\t0.3866530551182615\n",
      "  (2, 3072)\t0.46097489583229645\n",
      "  :\t:\n",
      "  (20797, 12991)\t0.2483705036831893\n",
      "  (20797, 12221)\t0.27276402145717243\n",
      "  (20797, 12016)\t0.24790022252744132\n",
      "  (20797, 10212)\t0.0804189541935242\n",
      "  (20797, 9496)\t0.17463635692029988\n",
      "  (20797, 9427)\t0.2939494781564304\n",
      "  (20797, 8897)\t0.3617803783368178\n",
      "  (20797, 8278)\t0.22333184464489023\n",
      "  (20797, 6967)\t0.21809398920480086\n",
      "  (20797, 3610)\t0.211655450844435\n",
      "  (20797, 1274)\t0.33553980418478896\n",
      "  (20797, 689)\t0.30700415486138355\n",
      "  (20797, 43)\t0.29724348057612154\n",
      "  (20798, 12916)\t0.22363267488270608\n",
      "  (20798, 10943)\t0.4460515589182236\n",
      "  (20798, 10084)\t0.3192496370187028\n",
      "  (20798, 6814)\t0.32496285694299426\n",
      "  (20798, 4973)\t0.4083701450239529\n",
      "  (20798, 1112)\t0.4460515589182236\n",
      "  (20798, 580)\t0.3112141524638974\n",
      "  (20798, 345)\t0.28446937819072576\n",
      "  (20799, 14715)\t0.5677577267055112\n",
      "  (20799, 7951)\t0.45983893273780013\n",
      "  (20799, 3590)\t0.37927626273066584\n",
      "  (20799, 372)\t0.5677577267055112\n"
     ]
    }
   ],
   "source": [
    "print(X) # IN NUMBER FORM "
   ]
  },
  {
   "cell_type": "code",
   "execution_count": 45,
   "id": "79bdd05b",
   "metadata": {},
   "outputs": [],
   "source": [
    "# splitting dataset to trsaining and test data\n",
    "X_train,X_test,Y_train,Y_test=train_test_split(X,Y,test_size=0.2,stratify=Y,random_state=2)\n"
   ]
  },
  {
   "cell_type": "code",
   "execution_count": 46,
   "id": "28c1bba6",
   "metadata": {},
   "outputs": [],
   "source": [
    "#training the model: Logistic regression\n",
    "model=LogisticRegression()\n"
   ]
  },
  {
   "cell_type": "code",
   "execution_count": 47,
   "id": "5d94dee8",
   "metadata": {},
   "outputs": [
    {
     "data": {
      "text/plain": [
       "LogisticRegression()"
      ]
     },
     "execution_count": 47,
     "metadata": {},
     "output_type": "execute_result"
    }
   ],
   "source": [
    "model.fit(X_train,Y_train)# training with train data\n"
   ]
  },
  {
   "cell_type": "code",
   "execution_count": 48,
   "id": "5e9cd621",
   "metadata": {},
   "outputs": [
    {
     "name": "stdout",
     "output_type": "stream",
     "text": [
      "accuracy score of training data=> 0.9866586538461538\n"
     ]
    }
   ],
   "source": [
    "# Evaluation \n",
    "\n",
    "# accuracy score on training data\n",
    "X_train_prediction=model.predict(X_train)\n",
    "training_data_accuracy=accuracy_score(X_train_prediction,Y_train)#compaing values of predicted and compared\n",
    "print(\"accuracy score of training data=>\",training_data_accuracy)"
   ]
  },
  {
   "cell_type": "code",
   "execution_count": 49,
   "id": "a0a488b1",
   "metadata": {},
   "outputs": [
    {
     "name": "stdout",
     "output_type": "stream",
     "text": [
      "accuracy score of testning data=> 0.9790865384615385\n"
     ]
    }
   ],
   "source": [
    " # accuracy score on testing data\n",
    "X_test_prediction=model.predict(X_test)\n",
    "testing_data_accuracy=accuracy_score(X_test_prediction,Y_test)#compaing values of predicted and compared\n",
    "print(\"accuracy score of testning data=>\",testing_data_accuracy)"
   ]
  },
  {
   "cell_type": "code",
   "execution_count": 53,
   "id": "4425cc83",
   "metadata": {},
   "outputs": [
    {
     "name": "stdout",
     "output_type": "stream",
     "text": [
      "[1]\n",
      "fake news\n"
     ]
    }
   ],
   "source": [
    "# building a predictive system\n",
    "new_news=X_test[0]\n",
    "prediction=model.predict(new_news)\n",
    "print(prediction)\n",
    "\n",
    "if(prediction[0]==0):\n",
    "    print(\"real news\")\n",
    "else:\n",
    "    print(\"fake news\")"
   ]
  },
  {
   "cell_type": "code",
   "execution_count": null,
   "id": "fc9713b8",
   "metadata": {},
   "outputs": [],
   "source": []
  }
 ],
 "metadata": {
  "kernelspec": {
   "display_name": "Python 3 (ipykernel)",
   "language": "python",
   "name": "python3"
  },
  "language_info": {
   "codemirror_mode": {
    "name": "ipython",
    "version": 3
   },
   "file_extension": ".py",
   "mimetype": "text/x-python",
   "name": "python",
   "nbconvert_exporter": "python",
   "pygments_lexer": "ipython3",
   "version": "3.9.13"
  }
 },
 "nbformat": 4,
 "nbformat_minor": 5
}
